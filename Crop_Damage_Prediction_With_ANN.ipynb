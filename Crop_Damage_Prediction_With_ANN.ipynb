{
  "nbformat": 4,
  "nbformat_minor": 0,
  "metadata": {
    "orig_nbformat": 4,
    "kernelspec": {
      "name": "python3",
      "display_name": "Python 3"
    },
    "colab": {
      "name": "Crop_Damage_Prediction_With_ANN.ipynb",
      "provenance": []
    },
    "language_info": {
      "name": "python"
    },
    "accelerator": "GPU"
  },
  "cells": [
    {
      "cell_type": "markdown",
      "metadata": {
        "id": "ckwMv-OGJRLp"
      },
      "source": [
        "# Crop Damage Prediction"
      ]
    },
    {
      "cell_type": "code",
      "metadata": {
        "id": "tLx6V3wwJRLu"
      },
      "source": [
        "import pandas as pd\n",
        "import numpy as np\n",
        "import matplotlib.pyplot as plt\n",
        "import seaborn as sns\n",
        "sns.set_style(\"darkgrid\")"
      ],
      "execution_count": 1,
      "outputs": []
    },
    {
      "cell_type": "code",
      "metadata": {
        "id": "C8Y53P2UJRLv"
      },
      "source": [
        "import warnings\n",
        "warnings.filterwarnings('ignore')"
      ],
      "execution_count": 2,
      "outputs": []
    },
    {
      "cell_type": "code",
      "metadata": {
        "colab": {
          "base_uri": "https://localhost:8080/",
          "height": 203
        },
        "id": "QjJEl3dbJRLv",
        "outputId": "03806fb9-eac3-4c3d-d051-6b1615707ffe"
      },
      "source": [
        "df = pd.read_csv(\"/content/drive/MyDrive/Machine Learning Projects/Crop Damage Prediction/train_yaOffsB.csv\")\n",
        "df.head()"
      ],
      "execution_count": 5,
      "outputs": [
        {
          "output_type": "execute_result",
          "data": {
            "text/html": [
              "<div>\n",
              "<style scoped>\n",
              "    .dataframe tbody tr th:only-of-type {\n",
              "        vertical-align: middle;\n",
              "    }\n",
              "\n",
              "    .dataframe tbody tr th {\n",
              "        vertical-align: top;\n",
              "    }\n",
              "\n",
              "    .dataframe thead th {\n",
              "        text-align: right;\n",
              "    }\n",
              "</style>\n",
              "<table border=\"1\" class=\"dataframe\">\n",
              "  <thead>\n",
              "    <tr style=\"text-align: right;\">\n",
              "      <th></th>\n",
              "      <th>ID</th>\n",
              "      <th>Estimated_Insects_Count</th>\n",
              "      <th>Crop_Type</th>\n",
              "      <th>Soil_Type</th>\n",
              "      <th>Pesticide_Use_Category</th>\n",
              "      <th>Number_Doses_Week</th>\n",
              "      <th>Number_Weeks_Used</th>\n",
              "      <th>Number_Weeks_Quit</th>\n",
              "      <th>Season</th>\n",
              "      <th>Crop_Damage</th>\n",
              "    </tr>\n",
              "  </thead>\n",
              "  <tbody>\n",
              "    <tr>\n",
              "      <th>0</th>\n",
              "      <td>F00000001</td>\n",
              "      <td>188</td>\n",
              "      <td>1</td>\n",
              "      <td>0</td>\n",
              "      <td>1</td>\n",
              "      <td>0</td>\n",
              "      <td>0.0</td>\n",
              "      <td>0</td>\n",
              "      <td>1</td>\n",
              "      <td>0</td>\n",
              "    </tr>\n",
              "    <tr>\n",
              "      <th>1</th>\n",
              "      <td>F00000003</td>\n",
              "      <td>209</td>\n",
              "      <td>1</td>\n",
              "      <td>0</td>\n",
              "      <td>1</td>\n",
              "      <td>0</td>\n",
              "      <td>0.0</td>\n",
              "      <td>0</td>\n",
              "      <td>2</td>\n",
              "      <td>1</td>\n",
              "    </tr>\n",
              "    <tr>\n",
              "      <th>2</th>\n",
              "      <td>F00000004</td>\n",
              "      <td>257</td>\n",
              "      <td>1</td>\n",
              "      <td>0</td>\n",
              "      <td>1</td>\n",
              "      <td>0</td>\n",
              "      <td>0.0</td>\n",
              "      <td>0</td>\n",
              "      <td>2</td>\n",
              "      <td>1</td>\n",
              "    </tr>\n",
              "    <tr>\n",
              "      <th>3</th>\n",
              "      <td>F00000005</td>\n",
              "      <td>257</td>\n",
              "      <td>1</td>\n",
              "      <td>1</td>\n",
              "      <td>1</td>\n",
              "      <td>0</td>\n",
              "      <td>0.0</td>\n",
              "      <td>0</td>\n",
              "      <td>2</td>\n",
              "      <td>1</td>\n",
              "    </tr>\n",
              "    <tr>\n",
              "      <th>4</th>\n",
              "      <td>F00000006</td>\n",
              "      <td>342</td>\n",
              "      <td>1</td>\n",
              "      <td>0</td>\n",
              "      <td>1</td>\n",
              "      <td>0</td>\n",
              "      <td>0.0</td>\n",
              "      <td>0</td>\n",
              "      <td>2</td>\n",
              "      <td>1</td>\n",
              "    </tr>\n",
              "  </tbody>\n",
              "</table>\n",
              "</div>"
            ],
            "text/plain": [
              "          ID  Estimated_Insects_Count  ...  Season  Crop_Damage\n",
              "0  F00000001                      188  ...       1            0\n",
              "1  F00000003                      209  ...       2            1\n",
              "2  F00000004                      257  ...       2            1\n",
              "3  F00000005                      257  ...       2            1\n",
              "4  F00000006                      342  ...       2            1\n",
              "\n",
              "[5 rows x 10 columns]"
            ]
          },
          "metadata": {
            "tags": []
          },
          "execution_count": 5
        }
      ]
    },
    {
      "cell_type": "code",
      "metadata": {
        "id": "fLU4ul7HJRLx",
        "colab": {
          "base_uri": "https://localhost:8080/"
        },
        "outputId": "2f6f3d39-abf5-49a1-f39e-d33425d1a5e4"
      },
      "source": [
        "df.shape"
      ],
      "execution_count": 6,
      "outputs": [
        {
          "output_type": "execute_result",
          "data": {
            "text/plain": [
              "(88858, 10)"
            ]
          },
          "metadata": {
            "tags": []
          },
          "execution_count": 6
        }
      ]
    },
    {
      "cell_type": "code",
      "metadata": {
        "id": "DkHA6wm5JRLx",
        "colab": {
          "base_uri": "https://localhost:8080/"
        },
        "outputId": "9151ef03-ddcb-473c-ba17-676b82d5ec68"
      },
      "source": [
        "df.dtypes"
      ],
      "execution_count": 7,
      "outputs": [
        {
          "output_type": "execute_result",
          "data": {
            "text/plain": [
              "ID                          object\n",
              "Estimated_Insects_Count      int64\n",
              "Crop_Type                    int64\n",
              "Soil_Type                    int64\n",
              "Pesticide_Use_Category       int64\n",
              "Number_Doses_Week            int64\n",
              "Number_Weeks_Used          float64\n",
              "Number_Weeks_Quit            int64\n",
              "Season                       int64\n",
              "Crop_Damage                  int64\n",
              "dtype: object"
            ]
          },
          "metadata": {
            "tags": []
          },
          "execution_count": 7
        }
      ]
    },
    {
      "cell_type": "code",
      "metadata": {
        "id": "1T6ZFmlXJRLy",
        "colab": {
          "base_uri": "https://localhost:8080/",
          "height": 295
        },
        "outputId": "9a603b70-1fab-450b-c3e1-b900abe01613"
      },
      "source": [
        "df.describe()"
      ],
      "execution_count": 8,
      "outputs": [
        {
          "output_type": "execute_result",
          "data": {
            "text/html": [
              "<div>\n",
              "<style scoped>\n",
              "    .dataframe tbody tr th:only-of-type {\n",
              "        vertical-align: middle;\n",
              "    }\n",
              "\n",
              "    .dataframe tbody tr th {\n",
              "        vertical-align: top;\n",
              "    }\n",
              "\n",
              "    .dataframe thead th {\n",
              "        text-align: right;\n",
              "    }\n",
              "</style>\n",
              "<table border=\"1\" class=\"dataframe\">\n",
              "  <thead>\n",
              "    <tr style=\"text-align: right;\">\n",
              "      <th></th>\n",
              "      <th>Estimated_Insects_Count</th>\n",
              "      <th>Crop_Type</th>\n",
              "      <th>Soil_Type</th>\n",
              "      <th>Pesticide_Use_Category</th>\n",
              "      <th>Number_Doses_Week</th>\n",
              "      <th>Number_Weeks_Used</th>\n",
              "      <th>Number_Weeks_Quit</th>\n",
              "      <th>Season</th>\n",
              "      <th>Crop_Damage</th>\n",
              "    </tr>\n",
              "  </thead>\n",
              "  <tbody>\n",
              "    <tr>\n",
              "      <th>count</th>\n",
              "      <td>88858.000000</td>\n",
              "      <td>88858.000000</td>\n",
              "      <td>88858.000000</td>\n",
              "      <td>88858.000000</td>\n",
              "      <td>88858.000000</td>\n",
              "      <td>79858.000000</td>\n",
              "      <td>88858.000000</td>\n",
              "      <td>88858.000000</td>\n",
              "      <td>88858.000000</td>\n",
              "    </tr>\n",
              "    <tr>\n",
              "      <th>mean</th>\n",
              "      <td>1399.012210</td>\n",
              "      <td>0.284375</td>\n",
              "      <td>0.458417</td>\n",
              "      <td>2.264186</td>\n",
              "      <td>25.849952</td>\n",
              "      <td>28.623970</td>\n",
              "      <td>9.589986</td>\n",
              "      <td>1.896959</td>\n",
              "      <td>0.190562</td>\n",
              "    </tr>\n",
              "    <tr>\n",
              "      <th>std</th>\n",
              "      <td>849.048781</td>\n",
              "      <td>0.451119</td>\n",
              "      <td>0.498271</td>\n",
              "      <td>0.461772</td>\n",
              "      <td>15.554428</td>\n",
              "      <td>12.391881</td>\n",
              "      <td>9.900631</td>\n",
              "      <td>0.701322</td>\n",
              "      <td>0.454215</td>\n",
              "    </tr>\n",
              "    <tr>\n",
              "      <th>min</th>\n",
              "      <td>150.000000</td>\n",
              "      <td>0.000000</td>\n",
              "      <td>0.000000</td>\n",
              "      <td>1.000000</td>\n",
              "      <td>0.000000</td>\n",
              "      <td>0.000000</td>\n",
              "      <td>0.000000</td>\n",
              "      <td>1.000000</td>\n",
              "      <td>0.000000</td>\n",
              "    </tr>\n",
              "    <tr>\n",
              "      <th>25%</th>\n",
              "      <td>731.000000</td>\n",
              "      <td>0.000000</td>\n",
              "      <td>0.000000</td>\n",
              "      <td>2.000000</td>\n",
              "      <td>15.000000</td>\n",
              "      <td>20.000000</td>\n",
              "      <td>0.000000</td>\n",
              "      <td>1.000000</td>\n",
              "      <td>0.000000</td>\n",
              "    </tr>\n",
              "    <tr>\n",
              "      <th>50%</th>\n",
              "      <td>1212.000000</td>\n",
              "      <td>0.000000</td>\n",
              "      <td>0.000000</td>\n",
              "      <td>2.000000</td>\n",
              "      <td>20.000000</td>\n",
              "      <td>28.000000</td>\n",
              "      <td>7.000000</td>\n",
              "      <td>2.000000</td>\n",
              "      <td>0.000000</td>\n",
              "    </tr>\n",
              "    <tr>\n",
              "      <th>75%</th>\n",
              "      <td>1898.000000</td>\n",
              "      <td>1.000000</td>\n",
              "      <td>1.000000</td>\n",
              "      <td>3.000000</td>\n",
              "      <td>40.000000</td>\n",
              "      <td>37.000000</td>\n",
              "      <td>16.000000</td>\n",
              "      <td>2.000000</td>\n",
              "      <td>0.000000</td>\n",
              "    </tr>\n",
              "    <tr>\n",
              "      <th>max</th>\n",
              "      <td>4097.000000</td>\n",
              "      <td>1.000000</td>\n",
              "      <td>1.000000</td>\n",
              "      <td>3.000000</td>\n",
              "      <td>95.000000</td>\n",
              "      <td>67.000000</td>\n",
              "      <td>50.000000</td>\n",
              "      <td>3.000000</td>\n",
              "      <td>2.000000</td>\n",
              "    </tr>\n",
              "  </tbody>\n",
              "</table>\n",
              "</div>"
            ],
            "text/plain": [
              "       Estimated_Insects_Count     Crop_Type  ...        Season   Crop_Damage\n",
              "count             88858.000000  88858.000000  ...  88858.000000  88858.000000\n",
              "mean               1399.012210      0.284375  ...      1.896959      0.190562\n",
              "std                 849.048781      0.451119  ...      0.701322      0.454215\n",
              "min                 150.000000      0.000000  ...      1.000000      0.000000\n",
              "25%                 731.000000      0.000000  ...      1.000000      0.000000\n",
              "50%                1212.000000      0.000000  ...      2.000000      0.000000\n",
              "75%                1898.000000      1.000000  ...      2.000000      0.000000\n",
              "max                4097.000000      1.000000  ...      3.000000      2.000000\n",
              "\n",
              "[8 rows x 9 columns]"
            ]
          },
          "metadata": {
            "tags": []
          },
          "execution_count": 8
        }
      ]
    },
    {
      "cell_type": "code",
      "metadata": {
        "id": "vZ3vngwFJRLy",
        "colab": {
          "base_uri": "https://localhost:8080/"
        },
        "outputId": "f9ce06f2-7ed6-4227-cca2-34714c1dd48a"
      },
      "source": [
        "df.isnull().sum()"
      ],
      "execution_count": 9,
      "outputs": [
        {
          "output_type": "execute_result",
          "data": {
            "text/plain": [
              "ID                            0\n",
              "Estimated_Insects_Count       0\n",
              "Crop_Type                     0\n",
              "Soil_Type                     0\n",
              "Pesticide_Use_Category        0\n",
              "Number_Doses_Week             0\n",
              "Number_Weeks_Used          9000\n",
              "Number_Weeks_Quit             0\n",
              "Season                        0\n",
              "Crop_Damage                   0\n",
              "dtype: int64"
            ]
          },
          "metadata": {
            "tags": []
          },
          "execution_count": 9
        }
      ]
    },
    {
      "cell_type": "markdown",
      "metadata": {
        "id": "ha2l6r9hJRLz"
      },
      "source": [
        "### Data Preprocessing"
      ]
    },
    {
      "cell_type": "code",
      "metadata": {
        "id": "yRDcwlnpJRL0",
        "colab": {
          "base_uri": "https://localhost:8080/",
          "height": 203
        },
        "outputId": "780b0d24-f0e4-4f53-ac8a-9412eb4db9d1"
      },
      "source": [
        "# Drop ID Column\n",
        "df = df.drop(columns = [\"ID\"])\n",
        "df.head()"
      ],
      "execution_count": 10,
      "outputs": [
        {
          "output_type": "execute_result",
          "data": {
            "text/html": [
              "<div>\n",
              "<style scoped>\n",
              "    .dataframe tbody tr th:only-of-type {\n",
              "        vertical-align: middle;\n",
              "    }\n",
              "\n",
              "    .dataframe tbody tr th {\n",
              "        vertical-align: top;\n",
              "    }\n",
              "\n",
              "    .dataframe thead th {\n",
              "        text-align: right;\n",
              "    }\n",
              "</style>\n",
              "<table border=\"1\" class=\"dataframe\">\n",
              "  <thead>\n",
              "    <tr style=\"text-align: right;\">\n",
              "      <th></th>\n",
              "      <th>Estimated_Insects_Count</th>\n",
              "      <th>Crop_Type</th>\n",
              "      <th>Soil_Type</th>\n",
              "      <th>Pesticide_Use_Category</th>\n",
              "      <th>Number_Doses_Week</th>\n",
              "      <th>Number_Weeks_Used</th>\n",
              "      <th>Number_Weeks_Quit</th>\n",
              "      <th>Season</th>\n",
              "      <th>Crop_Damage</th>\n",
              "    </tr>\n",
              "  </thead>\n",
              "  <tbody>\n",
              "    <tr>\n",
              "      <th>0</th>\n",
              "      <td>188</td>\n",
              "      <td>1</td>\n",
              "      <td>0</td>\n",
              "      <td>1</td>\n",
              "      <td>0</td>\n",
              "      <td>0.0</td>\n",
              "      <td>0</td>\n",
              "      <td>1</td>\n",
              "      <td>0</td>\n",
              "    </tr>\n",
              "    <tr>\n",
              "      <th>1</th>\n",
              "      <td>209</td>\n",
              "      <td>1</td>\n",
              "      <td>0</td>\n",
              "      <td>1</td>\n",
              "      <td>0</td>\n",
              "      <td>0.0</td>\n",
              "      <td>0</td>\n",
              "      <td>2</td>\n",
              "      <td>1</td>\n",
              "    </tr>\n",
              "    <tr>\n",
              "      <th>2</th>\n",
              "      <td>257</td>\n",
              "      <td>1</td>\n",
              "      <td>0</td>\n",
              "      <td>1</td>\n",
              "      <td>0</td>\n",
              "      <td>0.0</td>\n",
              "      <td>0</td>\n",
              "      <td>2</td>\n",
              "      <td>1</td>\n",
              "    </tr>\n",
              "    <tr>\n",
              "      <th>3</th>\n",
              "      <td>257</td>\n",
              "      <td>1</td>\n",
              "      <td>1</td>\n",
              "      <td>1</td>\n",
              "      <td>0</td>\n",
              "      <td>0.0</td>\n",
              "      <td>0</td>\n",
              "      <td>2</td>\n",
              "      <td>1</td>\n",
              "    </tr>\n",
              "    <tr>\n",
              "      <th>4</th>\n",
              "      <td>342</td>\n",
              "      <td>1</td>\n",
              "      <td>0</td>\n",
              "      <td>1</td>\n",
              "      <td>0</td>\n",
              "      <td>0.0</td>\n",
              "      <td>0</td>\n",
              "      <td>2</td>\n",
              "      <td>1</td>\n",
              "    </tr>\n",
              "  </tbody>\n",
              "</table>\n",
              "</div>"
            ],
            "text/plain": [
              "   Estimated_Insects_Count  Crop_Type  ...  Season  Crop_Damage\n",
              "0                      188          1  ...       1            0\n",
              "1                      209          1  ...       2            1\n",
              "2                      257          1  ...       2            1\n",
              "3                      257          1  ...       2            1\n",
              "4                      342          1  ...       2            1\n",
              "\n",
              "[5 rows x 9 columns]"
            ]
          },
          "metadata": {
            "tags": []
          },
          "execution_count": 10
        }
      ]
    },
    {
      "cell_type": "code",
      "metadata": {
        "id": "hRUBDuL5JRL0",
        "colab": {
          "base_uri": "https://localhost:8080/",
          "height": 280
        },
        "outputId": "9006e70b-a843-41c3-eb8b-4bcc4fc6337d"
      },
      "source": [
        "sns.boxplot(x = df.Number_Weeks_Used)\n",
        "plt.show()"
      ],
      "execution_count": 11,
      "outputs": [
        {
          "output_type": "display_data",
          "data": {
            "image/png": "[encoded data removed]",
            "text/plain": [
              "<Figure size 432x288 with 1 Axes>"
            ]
          },
          "metadata": {
            "tags": [],
            "needs_background": "light"
          }
        }
      ]
    },
    {
      "cell_type": "code",
      "metadata": {
        "id": "DAsSZ1nqJRL1",
        "colab": {
          "base_uri": "https://localhost:8080/",
          "height": 280
        },
        "outputId": "1eb95a0a-2c84-470a-ab95-dc13a06d2eda"
      },
      "source": [
        "sns.kdeplot(x = df.Number_Weeks_Used)\n",
        "plt.show()"
      ],
      "execution_count": 12,
      "outputs": [
        {
          "output_type": "display_data",
          "data": {
            "image/png": "[encoded data removed]",
            "text/plain": [
              "<Figure size 432x288 with 1 Axes>"
            ]
          },
          "metadata": {
            "tags": [],
            "needs_background": "light"
          }
        }
      ]
    },
    {
      "cell_type": "code",
      "metadata": {
        "id": "P-JpCP8OJRL1",
        "colab": {
          "base_uri": "https://localhost:8080/"
        },
        "outputId": "24b5e9e8-3b1d-402b-a119-c385c746845f"
      },
      "source": [
        "df[\"Number_Weeks_Used\"].describe()"
      ],
      "execution_count": 13,
      "outputs": [
        {
          "output_type": "execute_result",
          "data": {
            "text/plain": [
              "count    79858.000000\n",
              "mean        28.623970\n",
              "std         12.391881\n",
              "min          0.000000\n",
              "25%         20.000000\n",
              "50%         28.000000\n",
              "75%         37.000000\n",
              "max         67.000000\n",
              "Name: Number_Weeks_Used, dtype: float64"
            ]
          },
          "metadata": {
            "tags": []
          },
          "execution_count": 13
        }
      ]
    },
    {
      "cell_type": "code",
      "metadata": {
        "id": "3j0iBPtrJRL1"
      },
      "source": [
        "outlier = df[\"Number_Weeks_Used\"].describe()[\"75%\"] + (df[\"Number_Weeks_Used\"].describe()[\"75%\"] - df[\"Number_Weeks_Used\"].describe()[\"25%\"]) * 1.5"
      ],
      "execution_count": 14,
      "outputs": []
    },
    {
      "cell_type": "code",
      "metadata": {
        "id": "Uze0vCYsJRL2"
      },
      "source": [
        "df[\"Number_Weeks_Used\"] = np.where(df[\"Number_Weeks_Used\"] > outlier, outlier, df[\"Number_Weeks_Used\"])"
      ],
      "execution_count": 15,
      "outputs": []
    },
    {
      "cell_type": "code",
      "metadata": {
        "id": "BRoXvIM0JRL2",
        "colab": {
          "base_uri": "https://localhost:8080/",
          "height": 280
        },
        "outputId": "a7071785-7063-4623-c19c-b4b38600c28a"
      },
      "source": [
        "sns.boxplot(x = df.Number_Weeks_Used)\n",
        "plt.show()"
      ],
      "execution_count": 16,
      "outputs": [
        {
          "output_type": "display_data",
          "data": {
            "image/png": "[encoded data removed]",
            "text/plain": [
              "<Figure size 432x288 with 1 Axes>"
            ]
          },
          "metadata": {
            "tags": [],
            "needs_background": "light"
          }
        }
      ]
    },
    {
      "cell_type": "code",
      "metadata": {
        "id": "I_Ao-GSLJRL3",
        "colab": {
          "base_uri": "https://localhost:8080/",
          "height": 203
        },
        "outputId": "9862f6ab-84de-47ea-95ae-a01047b09958"
      },
      "source": [
        "df.head()"
      ],
      "execution_count": 17,
      "outputs": [
        {
          "output_type": "execute_result",
          "data": {
            "text/html": [
              "<div>\n",
              "<style scoped>\n",
              "    .dataframe tbody tr th:only-of-type {\n",
              "        vertical-align: middle;\n",
              "    }\n",
              "\n",
              "    .dataframe tbody tr th {\n",
              "        vertical-align: top;\n",
              "    }\n",
              "\n",
              "    .dataframe thead th {\n",
              "        text-align: right;\n",
              "    }\n",
              "</style>\n",
              "<table border=\"1\" class=\"dataframe\">\n",
              "  <thead>\n",
              "    <tr style=\"text-align: right;\">\n",
              "      <th></th>\n",
              "      <th>Estimated_Insects_Count</th>\n",
              "      <th>Crop_Type</th>\n",
              "      <th>Soil_Type</th>\n",
              "      <th>Pesticide_Use_Category</th>\n",
              "      <th>Number_Doses_Week</th>\n",
              "      <th>Number_Weeks_Used</th>\n",
              "      <th>Number_Weeks_Quit</th>\n",
              "      <th>Season</th>\n",
              "      <th>Crop_Damage</th>\n",
              "    </tr>\n",
              "  </thead>\n",
              "  <tbody>\n",
              "    <tr>\n",
              "      <th>0</th>\n",
              "      <td>188</td>\n",
              "      <td>1</td>\n",
              "      <td>0</td>\n",
              "      <td>1</td>\n",
              "      <td>0</td>\n",
              "      <td>0.0</td>\n",
              "      <td>0</td>\n",
              "      <td>1</td>\n",
              "      <td>0</td>\n",
              "    </tr>\n",
              "    <tr>\n",
              "      <th>1</th>\n",
              "      <td>209</td>\n",
              "      <td>1</td>\n",
              "      <td>0</td>\n",
              "      <td>1</td>\n",
              "      <td>0</td>\n",
              "      <td>0.0</td>\n",
              "      <td>0</td>\n",
              "      <td>2</td>\n",
              "      <td>1</td>\n",
              "    </tr>\n",
              "    <tr>\n",
              "      <th>2</th>\n",
              "      <td>257</td>\n",
              "      <td>1</td>\n",
              "      <td>0</td>\n",
              "      <td>1</td>\n",
              "      <td>0</td>\n",
              "      <td>0.0</td>\n",
              "      <td>0</td>\n",
              "      <td>2</td>\n",
              "      <td>1</td>\n",
              "    </tr>\n",
              "    <tr>\n",
              "      <th>3</th>\n",
              "      <td>257</td>\n",
              "      <td>1</td>\n",
              "      <td>1</td>\n",
              "      <td>1</td>\n",
              "      <td>0</td>\n",
              "      <td>0.0</td>\n",
              "      <td>0</td>\n",
              "      <td>2</td>\n",
              "      <td>1</td>\n",
              "    </tr>\n",
              "    <tr>\n",
              "      <th>4</th>\n",
              "      <td>342</td>\n",
              "      <td>1</td>\n",
              "      <td>0</td>\n",
              "      <td>1</td>\n",
              "      <td>0</td>\n",
              "      <td>0.0</td>\n",
              "      <td>0</td>\n",
              "      <td>2</td>\n",
              "      <td>1</td>\n",
              "    </tr>\n",
              "  </tbody>\n",
              "</table>\n",
              "</div>"
            ],
            "text/plain": [
              "   Estimated_Insects_Count  Crop_Type  ...  Season  Crop_Damage\n",
              "0                      188          1  ...       1            0\n",
              "1                      209          1  ...       2            1\n",
              "2                      257          1  ...       2            1\n",
              "3                      257          1  ...       2            1\n",
              "4                      342          1  ...       2            1\n",
              "\n",
              "[5 rows x 9 columns]"
            ]
          },
          "metadata": {
            "tags": []
          },
          "execution_count": 17
        }
      ]
    },
    {
      "cell_type": "code",
      "metadata": {
        "id": "pRBOSKoQJRL3"
      },
      "source": [
        "from sklearn.impute import KNNImputer\n",
        "imputer = KNNImputer(n_neighbors = 30)\n",
        "imputer.fit(df.iloc[:, :-1])\n",
        "df_imputed = imputer.transform(df.iloc[:, :-1])"
      ],
      "execution_count": 18,
      "outputs": []
    },
    {
      "cell_type": "code",
      "metadata": {
        "id": "8-c-NqV8JRL3",
        "colab": {
          "base_uri": "https://localhost:8080/",
          "height": 203
        },
        "outputId": "f88ae4df-bab6-4716-df21-f87289ad15fd"
      },
      "source": [
        "df_imputed = pd.DataFrame(df_imputed, columns = df.iloc[:, :-1].columns)\n",
        "df_imputed.head()"
      ],
      "execution_count": 19,
      "outputs": [
        {
          "output_type": "execute_result",
          "data": {
            "text/html": [
              "<div>\n",
              "<style scoped>\n",
              "    .dataframe tbody tr th:only-of-type {\n",
              "        vertical-align: middle;\n",
              "    }\n",
              "\n",
              "    .dataframe tbody tr th {\n",
              "        vertical-align: top;\n",
              "    }\n",
              "\n",
              "    .dataframe thead th {\n",
              "        text-align: right;\n",
              "    }\n",
              "</style>\n",
              "<table border=\"1\" class=\"dataframe\">\n",
              "  <thead>\n",
              "    <tr style=\"text-align: right;\">\n",
              "      <th></th>\n",
              "      <th>Estimated_Insects_Count</th>\n",
              "      <th>Crop_Type</th>\n",
              "      <th>Soil_Type</th>\n",
              "      <th>Pesticide_Use_Category</th>\n",
              "      <th>Number_Doses_Week</th>\n",
              "      <th>Number_Weeks_Used</th>\n",
              "      <th>Number_Weeks_Quit</th>\n",
              "      <th>Season</th>\n",
              "    </tr>\n",
              "  </thead>\n",
              "  <tbody>\n",
              "    <tr>\n",
              "      <th>0</th>\n",
              "      <td>188.0</td>\n",
              "      <td>1.0</td>\n",
              "      <td>0.0</td>\n",
              "      <td>1.0</td>\n",
              "      <td>0.0</td>\n",
              "      <td>0.0</td>\n",
              "      <td>0.0</td>\n",
              "      <td>1.0</td>\n",
              "    </tr>\n",
              "    <tr>\n",
              "      <th>1</th>\n",
              "      <td>209.0</td>\n",
              "      <td>1.0</td>\n",
              "      <td>0.0</td>\n",
              "      <td>1.0</td>\n",
              "      <td>0.0</td>\n",
              "      <td>0.0</td>\n",
              "      <td>0.0</td>\n",
              "      <td>2.0</td>\n",
              "    </tr>\n",
              "    <tr>\n",
              "      <th>2</th>\n",
              "      <td>257.0</td>\n",
              "      <td>1.0</td>\n",
              "      <td>0.0</td>\n",
              "      <td>1.0</td>\n",
              "      <td>0.0</td>\n",
              "      <td>0.0</td>\n",
              "      <td>0.0</td>\n",
              "      <td>2.0</td>\n",
              "    </tr>\n",
              "    <tr>\n",
              "      <th>3</th>\n",
              "      <td>257.0</td>\n",
              "      <td>1.0</td>\n",
              "      <td>1.0</td>\n",
              "      <td>1.0</td>\n",
              "      <td>0.0</td>\n",
              "      <td>0.0</td>\n",
              "      <td>0.0</td>\n",
              "      <td>2.0</td>\n",
              "    </tr>\n",
              "    <tr>\n",
              "      <th>4</th>\n",
              "      <td>342.0</td>\n",
              "      <td>1.0</td>\n",
              "      <td>0.0</td>\n",
              "      <td>1.0</td>\n",
              "      <td>0.0</td>\n",
              "      <td>0.0</td>\n",
              "      <td>0.0</td>\n",
              "      <td>2.0</td>\n",
              "    </tr>\n",
              "  </tbody>\n",
              "</table>\n",
              "</div>"
            ],
            "text/plain": [
              "   Estimated_Insects_Count  Crop_Type  ...  Number_Weeks_Quit  Season\n",
              "0                    188.0        1.0  ...                0.0     1.0\n",
              "1                    209.0        1.0  ...                0.0     2.0\n",
              "2                    257.0        1.0  ...                0.0     2.0\n",
              "3                    257.0        1.0  ...                0.0     2.0\n",
              "4                    342.0        1.0  ...                0.0     2.0\n",
              "\n",
              "[5 rows x 8 columns]"
            ]
          },
          "metadata": {
            "tags": []
          },
          "execution_count": 19
        }
      ]
    },
    {
      "cell_type": "code",
      "metadata": {
        "id": "Fr8ceJJgJRL3"
      },
      "source": [
        "df_imputed[\"Crop_Damage\"] = df[\"Crop_Damage\"]"
      ],
      "execution_count": 20,
      "outputs": []
    },
    {
      "cell_type": "code",
      "metadata": {
        "id": "-Z831AzsJRL4",
        "colab": {
          "base_uri": "https://localhost:8080/",
          "height": 203
        },
        "outputId": "036f5d7a-f64b-4eb7-f6ec-ceb484bacb60"
      },
      "source": [
        "df_imputed.head()"
      ],
      "execution_count": 21,
      "outputs": [
        {
          "output_type": "execute_result",
          "data": {
            "text/html": [
              "<div>\n",
              "<style scoped>\n",
              "    .dataframe tbody tr th:only-of-type {\n",
              "        vertical-align: middle;\n",
              "    }\n",
              "\n",
              "    .dataframe tbody tr th {\n",
              "        vertical-align: top;\n",
              "    }\n",
              "\n",
              "    .dataframe thead th {\n",
              "        text-align: right;\n",
              "    }\n",
              "</style>\n",
              "<table border=\"1\" class=\"dataframe\">\n",
              "  <thead>\n",
              "    <tr style=\"text-align: right;\">\n",
              "      <th></th>\n",
              "      <th>Estimated_Insects_Count</th>\n",
              "      <th>Crop_Type</th>\n",
              "      <th>Soil_Type</th>\n",
              "      <th>Pesticide_Use_Category</th>\n",
              "      <th>Number_Doses_Week</th>\n",
              "      <th>Number_Weeks_Used</th>\n",
              "      <th>Number_Weeks_Quit</th>\n",
              "      <th>Season</th>\n",
              "      <th>Crop_Damage</th>\n",
              "    </tr>\n",
              "  </thead>\n",
              "  <tbody>\n",
              "    <tr>\n",
              "      <th>0</th>\n",
              "      <td>188.0</td>\n",
              "      <td>1.0</td>\n",
              "      <td>0.0</td>\n",
              "      <td>1.0</td>\n",
              "      <td>0.0</td>\n",
              "      <td>0.0</td>\n",
              "      <td>0.0</td>\n",
              "      <td>1.0</td>\n",
              "      <td>0</td>\n",
              "    </tr>\n",
              "    <tr>\n",
              "      <th>1</th>\n",
              "      <td>209.0</td>\n",
              "      <td>1.0</td>\n",
              "      <td>0.0</td>\n",
              "      <td>1.0</td>\n",
              "      <td>0.0</td>\n",
              "      <td>0.0</td>\n",
              "      <td>0.0</td>\n",
              "      <td>2.0</td>\n",
              "      <td>1</td>\n",
              "    </tr>\n",
              "    <tr>\n",
              "      <th>2</th>\n",
              "      <td>257.0</td>\n",
              "      <td>1.0</td>\n",
              "      <td>0.0</td>\n",
              "      <td>1.0</td>\n",
              "      <td>0.0</td>\n",
              "      <td>0.0</td>\n",
              "      <td>0.0</td>\n",
              "      <td>2.0</td>\n",
              "      <td>1</td>\n",
              "    </tr>\n",
              "    <tr>\n",
              "      <th>3</th>\n",
              "      <td>257.0</td>\n",
              "      <td>1.0</td>\n",
              "      <td>1.0</td>\n",
              "      <td>1.0</td>\n",
              "      <td>0.0</td>\n",
              "      <td>0.0</td>\n",
              "      <td>0.0</td>\n",
              "      <td>2.0</td>\n",
              "      <td>1</td>\n",
              "    </tr>\n",
              "    <tr>\n",
              "      <th>4</th>\n",
              "      <td>342.0</td>\n",
              "      <td>1.0</td>\n",
              "      <td>0.0</td>\n",
              "      <td>1.0</td>\n",
              "      <td>0.0</td>\n",
              "      <td>0.0</td>\n",
              "      <td>0.0</td>\n",
              "      <td>2.0</td>\n",
              "      <td>1</td>\n",
              "    </tr>\n",
              "  </tbody>\n",
              "</table>\n",
              "</div>"
            ],
            "text/plain": [
              "   Estimated_Insects_Count  Crop_Type  ...  Season  Crop_Damage\n",
              "0                    188.0        1.0  ...     1.0            0\n",
              "1                    209.0        1.0  ...     2.0            1\n",
              "2                    257.0        1.0  ...     2.0            1\n",
              "3                    257.0        1.0  ...     2.0            1\n",
              "4                    342.0        1.0  ...     2.0            1\n",
              "\n",
              "[5 rows x 9 columns]"
            ]
          },
          "metadata": {
            "tags": []
          },
          "execution_count": 21
        }
      ]
    },
    {
      "cell_type": "code",
      "metadata": {
        "id": "4BXIWedfJRL4"
      },
      "source": [
        "df = df_imputed.copy()"
      ],
      "execution_count": 22,
      "outputs": []
    },
    {
      "cell_type": "code",
      "metadata": {
        "id": "GWt_oSXvJRL4",
        "colab": {
          "base_uri": "https://localhost:8080/",
          "height": 203
        },
        "outputId": "e2f14a8b-d694-48aa-8afa-6c5eb29def05"
      },
      "source": [
        "df.head()"
      ],
      "execution_count": 23,
      "outputs": [
        {
          "output_type": "execute_result",
          "data": {
            "text/html": [
              "<div>\n",
              "<style scoped>\n",
              "    .dataframe tbody tr th:only-of-type {\n",
              "        vertical-align: middle;\n",
              "    }\n",
              "\n",
              "    .dataframe tbody tr th {\n",
              "        vertical-align: top;\n",
              "    }\n",
              "\n",
              "    .dataframe thead th {\n",
              "        text-align: right;\n",
              "    }\n",
              "</style>\n",
              "<table border=\"1\" class=\"dataframe\">\n",
              "  <thead>\n",
              "    <tr style=\"text-align: right;\">\n",
              "      <th></th>\n",
              "      <th>Estimated_Insects_Count</th>\n",
              "      <th>Crop_Type</th>\n",
              "      <th>Soil_Type</th>\n",
              "      <th>Pesticide_Use_Category</th>\n",
              "      <th>Number_Doses_Week</th>\n",
              "      <th>Number_Weeks_Used</th>\n",
              "      <th>Number_Weeks_Quit</th>\n",
              "      <th>Season</th>\n",
              "      <th>Crop_Damage</th>\n",
              "    </tr>\n",
              "  </thead>\n",
              "  <tbody>\n",
              "    <tr>\n",
              "      <th>0</th>\n",
              "      <td>188.0</td>\n",
              "      <td>1.0</td>\n",
              "      <td>0.0</td>\n",
              "      <td>1.0</td>\n",
              "      <td>0.0</td>\n",
              "      <td>0.0</td>\n",
              "      <td>0.0</td>\n",
              "      <td>1.0</td>\n",
              "      <td>0</td>\n",
              "    </tr>\n",
              "    <tr>\n",
              "      <th>1</th>\n",
              "      <td>209.0</td>\n",
              "      <td>1.0</td>\n",
              "      <td>0.0</td>\n",
              "      <td>1.0</td>\n",
              "      <td>0.0</td>\n",
              "      <td>0.0</td>\n",
              "      <td>0.0</td>\n",
              "      <td>2.0</td>\n",
              "      <td>1</td>\n",
              "    </tr>\n",
              "    <tr>\n",
              "      <th>2</th>\n",
              "      <td>257.0</td>\n",
              "      <td>1.0</td>\n",
              "      <td>0.0</td>\n",
              "      <td>1.0</td>\n",
              "      <td>0.0</td>\n",
              "      <td>0.0</td>\n",
              "      <td>0.0</td>\n",
              "      <td>2.0</td>\n",
              "      <td>1</td>\n",
              "    </tr>\n",
              "    <tr>\n",
              "      <th>3</th>\n",
              "      <td>257.0</td>\n",
              "      <td>1.0</td>\n",
              "      <td>1.0</td>\n",
              "      <td>1.0</td>\n",
              "      <td>0.0</td>\n",
              "      <td>0.0</td>\n",
              "      <td>0.0</td>\n",
              "      <td>2.0</td>\n",
              "      <td>1</td>\n",
              "    </tr>\n",
              "    <tr>\n",
              "      <th>4</th>\n",
              "      <td>342.0</td>\n",
              "      <td>1.0</td>\n",
              "      <td>0.0</td>\n",
              "      <td>1.0</td>\n",
              "      <td>0.0</td>\n",
              "      <td>0.0</td>\n",
              "      <td>0.0</td>\n",
              "      <td>2.0</td>\n",
              "      <td>1</td>\n",
              "    </tr>\n",
              "  </tbody>\n",
              "</table>\n",
              "</div>"
            ],
            "text/plain": [
              "   Estimated_Insects_Count  Crop_Type  ...  Season  Crop_Damage\n",
              "0                    188.0        1.0  ...     1.0            0\n",
              "1                    209.0        1.0  ...     2.0            1\n",
              "2                    257.0        1.0  ...     2.0            1\n",
              "3                    257.0        1.0  ...     2.0            1\n",
              "4                    342.0        1.0  ...     2.0            1\n",
              "\n",
              "[5 rows x 9 columns]"
            ]
          },
          "metadata": {
            "tags": []
          },
          "execution_count": 23
        }
      ]
    },
    {
      "cell_type": "code",
      "metadata": {
        "id": "3mLnOm8eJRL5",
        "colab": {
          "base_uri": "https://localhost:8080/"
        },
        "outputId": "2053bc11-baaf-4d1b-8e30-5141ca635093"
      },
      "source": [
        "df.isnull().sum()"
      ],
      "execution_count": 24,
      "outputs": [
        {
          "output_type": "execute_result",
          "data": {
            "text/plain": [
              "Estimated_Insects_Count    0\n",
              "Crop_Type                  0\n",
              "Soil_Type                  0\n",
              "Pesticide_Use_Category     0\n",
              "Number_Doses_Week          0\n",
              "Number_Weeks_Used          0\n",
              "Number_Weeks_Quit          0\n",
              "Season                     0\n",
              "Crop_Damage                0\n",
              "dtype: int64"
            ]
          },
          "metadata": {
            "tags": []
          },
          "execution_count": 24
        }
      ]
    },
    {
      "cell_type": "markdown",
      "metadata": {
        "id": "TOW5z6UIJRL5"
      },
      "source": [
        "### Question: In which season crop damage is happening more?\n",
        "<br>Note: Crop Damage Category (0=alive, 1=Damage due to other causes, 2=Damage due to Pesticides)"
      ]
    },
    {
      "cell_type": "code",
      "metadata": {
        "id": "3tQQ4c0oJRL5",
        "colab": {
          "base_uri": "https://localhost:8080/",
          "height": 279
        },
        "outputId": "3f7cee3b-e55c-4b26-ad39-91031b37bdf3"
      },
      "source": [
        "sns.countplot(x = df[\"Season\"], hue = df[\"Crop_Damage\"])\n",
        "plt.show()"
      ],
      "execution_count": 25,
      "outputs": [
        {
          "output_type": "display_data",
          "data": {
            "image/png": "[encoded data removed]",
            "text/plain": [
              "<Figure size 432x288 with 1 Axes>"
            ]
          },
          "metadata": {
            "tags": [],
            "needs_background": "light"
          }
        }
      ]
    },
    {
      "cell_type": "markdown",
      "metadata": {
        "id": "rbGmzlpAJRL5"
      },
      "source": [
        "In season 2 crop damage is happening more compared to other seasons"
      ]
    },
    {
      "cell_type": "markdown",
      "metadata": {
        "id": "tSeUAAZSJRL9"
      },
      "source": [
        "### Question: Average Insect Count in each crop damage type "
      ]
    },
    {
      "cell_type": "code",
      "metadata": {
        "id": "nHBIZnVZJRL-",
        "colab": {
          "base_uri": "https://localhost:8080/"
        },
        "outputId": "dbbed686-008a-47fa-a0fc-032a1fec2349"
      },
      "source": [
        "df.groupby(\"Crop_Damage\").mean()[\"Estimated_Insects_Count\"]"
      ],
      "execution_count": 26,
      "outputs": [
        {
          "output_type": "execute_result",
          "data": {
            "text/plain": [
              "Crop_Damage\n",
              "0    1315.707387\n",
              "1    1839.106200\n",
              "2    1731.111976\n",
              "Name: Estimated_Insects_Count, dtype: float64"
            ]
          },
          "metadata": {
            "tags": []
          },
          "execution_count": 26
        }
      ]
    },
    {
      "cell_type": "code",
      "metadata": {
        "id": "FcWUeN8pJRL-",
        "colab": {
          "base_uri": "https://localhost:8080/",
          "height": 279
        },
        "outputId": "0efe08b8-edb5-40b4-eb21-cd50ee8e0543"
      },
      "source": [
        "sns.barplot(y = [\"Alive\", \"Damage due to Other Reasons\", \"Damage due to Pesticides\"],x = df.groupby(\"Crop_Damage\").mean()[\"Estimated_Insects_Count\"])\n",
        "plt.xlabel(\"Average Insect Count\")\n",
        "plt.show()"
      ],
      "execution_count": 27,
      "outputs": [
        {
          "output_type": "display_data",
          "data": {
            "image/png": "[encoded data removed]",
            "text/plain": [
              "<Figure size 432x288 with 1 Axes>"
            ]
          },
          "metadata": {
            "tags": [],
            "needs_background": "light"
          }
        }
      ]
    },
    {
      "cell_type": "markdown",
      "metadata": {
        "id": "6BlMPe60JRL-"
      },
      "source": [
        "In Damage due to Other Reasons Average insect count is more"
      ]
    },
    {
      "cell_type": "markdown",
      "metadata": {
        "id": "GcMvx6nlJRL_"
      },
      "source": [
        "### Question: Which crop type more crop damage is happening"
      ]
    },
    {
      "cell_type": "code",
      "metadata": {
        "id": "V4tL_xp_JRL_",
        "colab": {
          "base_uri": "https://localhost:8080/",
          "height": 280
        },
        "outputId": "e9056beb-4a5c-48c0-917e-8a384fed6a44"
      },
      "source": [
        "sns.countplot(x = df[\"Crop_Type\"], hue = df[\"Crop_Damage\"])\n",
        "plt.show()"
      ],
      "execution_count": 28,
      "outputs": [
        {
          "output_type": "display_data",
          "data": {
            "image/png": "[encoded data removed]",
            "text/plain": [
              "<Figure size 432x288 with 1 Axes>"
            ]
          },
          "metadata": {
            "tags": [],
            "needs_background": "light"
          }
        }
      ]
    },
    {
      "cell_type": "markdown",
      "metadata": {
        "id": "Kf6-ARXJJRL_"
      },
      "source": [
        "### Question: In Which soil type more crop damage is happening"
      ]
    },
    {
      "cell_type": "code",
      "metadata": {
        "id": "EXfbq-UwJRMA",
        "colab": {
          "base_uri": "https://localhost:8080/",
          "height": 142
        },
        "outputId": "c810e5e6-d9bf-4a86-8bcc-bca4fa22f3a5"
      },
      "source": [
        "ct = pd.crosstab(df[\"Soil_Type\"], df[\"Crop_Damage\"])\n",
        "ct"
      ],
      "execution_count": 29,
      "outputs": [
        {
          "output_type": "execute_result",
          "data": {
            "text/html": [
              "<div>\n",
              "<style scoped>\n",
              "    .dataframe tbody tr th:only-of-type {\n",
              "        vertical-align: middle;\n",
              "    }\n",
              "\n",
              "    .dataframe tbody tr th {\n",
              "        vertical-align: top;\n",
              "    }\n",
              "\n",
              "    .dataframe thead th {\n",
              "        text-align: right;\n",
              "    }\n",
              "</style>\n",
              "<table border=\"1\" class=\"dataframe\">\n",
              "  <thead>\n",
              "    <tr style=\"text-align: right;\">\n",
              "      <th>Crop_Damage</th>\n",
              "      <th>0</th>\n",
              "      <th>1</th>\n",
              "      <th>2</th>\n",
              "    </tr>\n",
              "    <tr>\n",
              "      <th>Soil_Type</th>\n",
              "      <th></th>\n",
              "      <th></th>\n",
              "      <th></th>\n",
              "    </tr>\n",
              "  </thead>\n",
              "  <tbody>\n",
              "    <tr>\n",
              "      <th>0.0</th>\n",
              "      <td>39841</td>\n",
              "      <td>6953</td>\n",
              "      <td>1330</td>\n",
              "    </tr>\n",
              "    <tr>\n",
              "      <th>1.0</th>\n",
              "      <td>34397</td>\n",
              "      <td>5354</td>\n",
              "      <td>983</td>\n",
              "    </tr>\n",
              "  </tbody>\n",
              "</table>\n",
              "</div>"
            ],
            "text/plain": [
              "Crop_Damage      0     1     2\n",
              "Soil_Type                     \n",
              "0.0          39841  6953  1330\n",
              "1.0          34397  5354   983"
            ]
          },
          "metadata": {
            "tags": []
          },
          "execution_count": 29
        }
      ]
    },
    {
      "cell_type": "code",
      "metadata": {
        "id": "dKKcJ56FJRMA",
        "colab": {
          "base_uri": "https://localhost:8080/",
          "height": 373
        },
        "outputId": "002ad288-1b9c-4f2d-8817-22005966b076"
      },
      "source": [
        "plt.figure(figsize = (6,6))\n",
        "plt.pie(ct.iloc[1, :], labels = [\"Alive\", \"Damage due to Other Reasons\", \"Damage due to Pesticides\"], autopct = \"%1.2f%%\")\n",
        "plt.title(\"Soil Type - 1\")\n",
        "plt.show()"
      ],
      "execution_count": 30,
      "outputs": [
        {
          "output_type": "display_data",
          "data": {
            "image/png": "[encoded data removed]",
            "text/plain": [
              "<Figure size 432x432 with 1 Axes>"
            ]
          },
          "metadata": {
            "tags": []
          }
        }
      ]
    },
    {
      "cell_type": "code",
      "metadata": {
        "id": "mGN-WO6uJRMA",
        "colab": {
          "base_uri": "https://localhost:8080/",
          "height": 373
        },
        "outputId": "039a5ad9-34a1-4f50-9991-021a5311773f"
      },
      "source": [
        "plt.figure(figsize = (6,6))\n",
        "plt.pie(ct.iloc[0, :], labels = [\"Alive\", \"Damage due to Other Reasons\", \"Damage due to Pesticides\"], autopct = \"%1.2f%%\")\n",
        "plt.title(\"Soil Type - 0\")\n",
        "plt.show()"
      ],
      "execution_count": 31,
      "outputs": [
        {
          "output_type": "display_data",
          "data": {
            "image/png": "[encoded data removed]",
            "text/plain": [
              "<Figure size 432x432 with 1 Axes>"
            ]
          },
          "metadata": {
            "tags": []
          }
        }
      ]
    },
    {
      "cell_type": "code",
      "metadata": {
        "id": "mJuWQSRNJRMB"
      },
      "source": [
        "X = df.drop(columns = [\"Crop_Damage\"])\n",
        "y = df.Crop_Damage"
      ],
      "execution_count": 32,
      "outputs": []
    },
    {
      "cell_type": "code",
      "metadata": {
        "id": "4O_EnNcmJRMB",
        "colab": {
          "base_uri": "https://localhost:8080/",
          "height": 203
        },
        "outputId": "82288c39-42f3-4f5e-d424-fdef202a92c9"
      },
      "source": [
        "X.head()"
      ],
      "execution_count": 33,
      "outputs": [
        {
          "output_type": "execute_result",
          "data": {
            "text/html": [
              "<div>\n",
              "<style scoped>\n",
              "    .dataframe tbody tr th:only-of-type {\n",
              "        vertical-align: middle;\n",
              "    }\n",
              "\n",
              "    .dataframe tbody tr th {\n",
              "        vertical-align: top;\n",
              "    }\n",
              "\n",
              "    .dataframe thead th {\n",
              "        text-align: right;\n",
              "    }\n",
              "</style>\n",
              "<table border=\"1\" class=\"dataframe\">\n",
              "  <thead>\n",
              "    <tr style=\"text-align: right;\">\n",
              "      <th></th>\n",
              "      <th>Estimated_Insects_Count</th>\n",
              "      <th>Crop_Type</th>\n",
              "      <th>Soil_Type</th>\n",
              "      <th>Pesticide_Use_Category</th>\n",
              "      <th>Number_Doses_Week</th>\n",
              "      <th>Number_Weeks_Used</th>\n",
              "      <th>Number_Weeks_Quit</th>\n",
              "      <th>Season</th>\n",
              "    </tr>\n",
              "  </thead>\n",
              "  <tbody>\n",
              "    <tr>\n",
              "      <th>0</th>\n",
              "      <td>188.0</td>\n",
              "      <td>1.0</td>\n",
              "      <td>0.0</td>\n",
              "      <td>1.0</td>\n",
              "      <td>0.0</td>\n",
              "      <td>0.0</td>\n",
              "      <td>0.0</td>\n",
              "      <td>1.0</td>\n",
              "    </tr>\n",
              "    <tr>\n",
              "      <th>1</th>\n",
              "      <td>209.0</td>\n",
              "      <td>1.0</td>\n",
              "      <td>0.0</td>\n",
              "      <td>1.0</td>\n",
              "      <td>0.0</td>\n",
              "      <td>0.0</td>\n",
              "      <td>0.0</td>\n",
              "      <td>2.0</td>\n",
              "    </tr>\n",
              "    <tr>\n",
              "      <th>2</th>\n",
              "      <td>257.0</td>\n",
              "      <td>1.0</td>\n",
              "      <td>0.0</td>\n",
              "      <td>1.0</td>\n",
              "      <td>0.0</td>\n",
              "      <td>0.0</td>\n",
              "      <td>0.0</td>\n",
              "      <td>2.0</td>\n",
              "    </tr>\n",
              "    <tr>\n",
              "      <th>3</th>\n",
              "      <td>257.0</td>\n",
              "      <td>1.0</td>\n",
              "      <td>1.0</td>\n",
              "      <td>1.0</td>\n",
              "      <td>0.0</td>\n",
              "      <td>0.0</td>\n",
              "      <td>0.0</td>\n",
              "      <td>2.0</td>\n",
              "    </tr>\n",
              "    <tr>\n",
              "      <th>4</th>\n",
              "      <td>342.0</td>\n",
              "      <td>1.0</td>\n",
              "      <td>0.0</td>\n",
              "      <td>1.0</td>\n",
              "      <td>0.0</td>\n",
              "      <td>0.0</td>\n",
              "      <td>0.0</td>\n",
              "      <td>2.0</td>\n",
              "    </tr>\n",
              "  </tbody>\n",
              "</table>\n",
              "</div>"
            ],
            "text/plain": [
              "   Estimated_Insects_Count  Crop_Type  ...  Number_Weeks_Quit  Season\n",
              "0                    188.0        1.0  ...                0.0     1.0\n",
              "1                    209.0        1.0  ...                0.0     2.0\n",
              "2                    257.0        1.0  ...                0.0     2.0\n",
              "3                    257.0        1.0  ...                0.0     2.0\n",
              "4                    342.0        1.0  ...                0.0     2.0\n",
              "\n",
              "[5 rows x 8 columns]"
            ]
          },
          "metadata": {
            "tags": []
          },
          "execution_count": 33
        }
      ]
    },
    {
      "cell_type": "code",
      "metadata": {
        "id": "oHsFOjdbJRMC",
        "colab": {
          "base_uri": "https://localhost:8080/"
        },
        "outputId": "bf0d56d8-a5d8-4167-c731-d56483f913a1"
      },
      "source": [
        "y.head()"
      ],
      "execution_count": 34,
      "outputs": [
        {
          "output_type": "execute_result",
          "data": {
            "text/plain": [
              "0    0\n",
              "1    1\n",
              "2    1\n",
              "3    1\n",
              "4    1\n",
              "Name: Crop_Damage, dtype: int64"
            ]
          },
          "metadata": {
            "tags": []
          },
          "execution_count": 34
        }
      ]
    },
    {
      "cell_type": "markdown",
      "metadata": {
        "id": "MuBmuAgnJroq"
      },
      "source": [
        "### Building Artificial Neural Network Model"
      ]
    },
    {
      "cell_type": "code",
      "metadata": {
        "id": "tN73VMlxJx3N"
      },
      "source": [
        "import tensorflow\n",
        "from tensorflow.keras import models\n",
        "from tensorflow.keras.layers import Dense, Flatten\n",
        "from tensorflow import keras"
      ],
      "execution_count": 50,
      "outputs": []
    },
    {
      "cell_type": "code",
      "metadata": {
        "id": "MkfHYJohMn9f"
      },
      "source": [
        "# convert y to categorical\n",
        "y = keras.utils.to_categorical(y)"
      ],
      "execution_count": 38,
      "outputs": []
    },
    {
      "cell_type": "code",
      "metadata": {
        "colab": {
          "base_uri": "https://localhost:8080/"
        },
        "id": "_lcH4_6jM-Dx",
        "outputId": "73c7cba2-2eef-4694-bac3-8d394ebe4c27"
      },
      "source": [
        "y"
      ],
      "execution_count": 39,
      "outputs": [
        {
          "output_type": "execute_result",
          "data": {
            "text/plain": [
              "array([[1., 0., 0.],\n",
              "       [0., 1., 0.],\n",
              "       [0., 1., 0.],\n",
              "       ...,\n",
              "       [1., 0., 0.],\n",
              "       [1., 0., 0.],\n",
              "       [1., 0., 0.]], dtype=float32)"
            ]
          },
          "metadata": {
            "tags": []
          },
          "execution_count": 39
        }
      ]
    },
    {
      "cell_type": "code",
      "metadata": {
        "id": "wLKtHTDGNay8"
      },
      "source": [
        "model = models.Sequential()\n",
        "model.add(Flatten())\n",
        "model.add(Dense(units = 200, activation = \"relu\"))\n",
        "model.add(Dense(units = 200, activation = \"relu\"))\n",
        "model.add(Dense(3, activation = \"softmax\"))\n",
        "model.compile(optimizer = \"adam\", loss = \"categorical_crossentropy\", metrics = [\"accuracy\"])"
      ],
      "execution_count": 58,
      "outputs": []
    },
    {
      "cell_type": "code",
      "metadata": {
        "colab": {
          "base_uri": "https://localhost:8080/"
        },
        "id": "O2mfbPZnOXKr",
        "outputId": "74285e5b-62ad-4ea4-cd41-c05c56b0a5ed"
      },
      "source": [
        "model.fit(x = X, y = y, batch_size = 16, epochs = 100)"
      ],
      "execution_count": 60,
      "outputs": [
        {
          "output_type": "stream",
          "text": [
            "Epoch 1/100\n",
            "5554/5554 [==============================] - 12s 2ms/step - loss: 0.4875 - accuracy: 0.8340\n",
            "Epoch 2/100\n",
            "5554/5554 [==============================] - 12s 2ms/step - loss: 0.4826 - accuracy: 0.8354\n",
            "Epoch 3/100\n",
            "5554/5554 [==============================] - 12s 2ms/step - loss: 0.4761 - accuracy: 0.8354\n",
            "Epoch 4/100\n",
            "5554/5554 [==============================] - 12s 2ms/step - loss: 0.4719 - accuracy: 0.8355\n",
            "Epoch 5/100\n",
            "5554/5554 [==============================] - 12s 2ms/step - loss: 0.4702 - accuracy: 0.8354\n",
            "Epoch 6/100\n",
            "5554/5554 [==============================] - 12s 2ms/step - loss: 0.4669 - accuracy: 0.8354\n",
            "Epoch 7/100\n",
            "5554/5554 [==============================] - 12s 2ms/step - loss: 0.4660 - accuracy: 0.8354\n",
            "Epoch 8/100\n",
            "5554/5554 [==============================] - 12s 2ms/step - loss: 0.4641 - accuracy: 0.8355\n",
            "Epoch 9/100\n",
            "5554/5554 [==============================] - 12s 2ms/step - loss: 0.4617 - accuracy: 0.8362\n",
            "Epoch 10/100\n",
            "5554/5554 [==============================] - 12s 2ms/step - loss: 0.4581 - accuracy: 0.8375\n",
            "Epoch 11/100\n",
            "5554/5554 [==============================] - 12s 2ms/step - loss: 0.4554 - accuracy: 0.8384\n",
            "Epoch 12/100\n",
            "5554/5554 [==============================] - 12s 2ms/step - loss: 0.4536 - accuracy: 0.8389\n",
            "Epoch 13/100\n",
            "5554/5554 [==============================] - 12s 2ms/step - loss: 0.4517 - accuracy: 0.8390\n",
            "Epoch 14/100\n",
            "5554/5554 [==============================] - 12s 2ms/step - loss: 0.4506 - accuracy: 0.8394\n",
            "Epoch 15/100\n",
            "5554/5554 [==============================] - 12s 2ms/step - loss: 0.4505 - accuracy: 0.8390\n",
            "Epoch 16/100\n",
            "5554/5554 [==============================] - 12s 2ms/step - loss: 0.4506 - accuracy: 0.8389\n",
            "Epoch 17/100\n",
            "5554/5554 [==============================] - 12s 2ms/step - loss: 0.4501 - accuracy: 0.8392\n",
            "Epoch 18/100\n",
            "5554/5554 [==============================] - 12s 2ms/step - loss: 0.4503 - accuracy: 0.8393\n",
            "Epoch 19/100\n",
            "5554/5554 [==============================] - 12s 2ms/step - loss: 0.4487 - accuracy: 0.8390\n",
            "Epoch 20/100\n",
            "5554/5554 [==============================] - 12s 2ms/step - loss: 0.4484 - accuracy: 0.8397\n",
            "Epoch 21/100\n",
            "5554/5554 [==============================] - 12s 2ms/step - loss: 0.4485 - accuracy: 0.8394\n",
            "Epoch 22/100\n",
            "5554/5554 [==============================] - 12s 2ms/step - loss: 0.4490 - accuracy: 0.8394\n",
            "Epoch 23/100\n",
            "5554/5554 [==============================] - 12s 2ms/step - loss: 0.4476 - accuracy: 0.8390\n",
            "Epoch 24/100\n",
            "5554/5554 [==============================] - 12s 2ms/step - loss: 0.4471 - accuracy: 0.8397\n",
            "Epoch 25/100\n",
            "5554/5554 [==============================] - 12s 2ms/step - loss: 0.4468 - accuracy: 0.8394\n",
            "Epoch 26/100\n",
            "5554/5554 [==============================] - 12s 2ms/step - loss: 0.4471 - accuracy: 0.8394\n",
            "Epoch 27/100\n",
            "5554/5554 [==============================] - 12s 2ms/step - loss: 0.4469 - accuracy: 0.8396\n",
            "Epoch 28/100\n",
            "5554/5554 [==============================] - 12s 2ms/step - loss: 0.4465 - accuracy: 0.8395\n",
            "Epoch 29/100\n",
            "5554/5554 [==============================] - 12s 2ms/step - loss: 0.4466 - accuracy: 0.8398\n",
            "Epoch 30/100\n",
            "5554/5554 [==============================] - 12s 2ms/step - loss: 0.4466 - accuracy: 0.8394\n",
            "Epoch 31/100\n",
            "5554/5554 [==============================] - 12s 2ms/step - loss: 0.4460 - accuracy: 0.8399\n",
            "Epoch 32/100\n",
            "5554/5554 [==============================] - 12s 2ms/step - loss: 0.4458 - accuracy: 0.8399\n",
            "Epoch 33/100\n",
            "5554/5554 [==============================] - 12s 2ms/step - loss: 0.4462 - accuracy: 0.8399\n",
            "Epoch 34/100\n",
            "5554/5554 [==============================] - 12s 2ms/step - loss: 0.4465 - accuracy: 0.8400\n",
            "Epoch 35/100\n",
            "5554/5554 [==============================] - 12s 2ms/step - loss: 0.4458 - accuracy: 0.8398\n",
            "Epoch 36/100\n",
            "5554/5554 [==============================] - 12s 2ms/step - loss: 0.4456 - accuracy: 0.8398\n",
            "Epoch 37/100\n",
            "5554/5554 [==============================] - 12s 2ms/step - loss: 0.4456 - accuracy: 0.8400\n",
            "Epoch 38/100\n",
            "5554/5554 [==============================] - 12s 2ms/step - loss: 0.4459 - accuracy: 0.8399\n",
            "Epoch 39/100\n",
            "5554/5554 [==============================] - 12s 2ms/step - loss: 0.4459 - accuracy: 0.8400\n",
            "Epoch 40/100\n",
            "5554/5554 [==============================] - 12s 2ms/step - loss: 0.4461 - accuracy: 0.8398\n",
            "Epoch 41/100\n",
            "5554/5554 [==============================] - 12s 2ms/step - loss: 0.4454 - accuracy: 0.8400\n",
            "Epoch 42/100\n",
            "5554/5554 [==============================] - 12s 2ms/step - loss: 0.4452 - accuracy: 0.8400\n",
            "Epoch 43/100\n",
            "5554/5554 [==============================] - 12s 2ms/step - loss: 0.4463 - accuracy: 0.8399\n",
            "Epoch 44/100\n",
            "5554/5554 [==============================] - 12s 2ms/step - loss: 0.4465 - accuracy: 0.8400\n",
            "Epoch 45/100\n",
            "5554/5554 [==============================] - 12s 2ms/step - loss: 0.4462 - accuracy: 0.8400\n",
            "Epoch 46/100\n",
            "5554/5554 [==============================] - 12s 2ms/step - loss: 0.4462 - accuracy: 0.8398\n",
            "Epoch 47/100\n",
            "5554/5554 [==============================] - 12s 2ms/step - loss: 0.4461 - accuracy: 0.8400\n",
            "Epoch 48/100\n",
            "5554/5554 [==============================] - 12s 2ms/step - loss: 0.4461 - accuracy: 0.8400\n",
            "Epoch 49/100\n",
            "5554/5554 [==============================] - 12s 2ms/step - loss: 0.4458 - accuracy: 0.8400\n",
            "Epoch 50/100\n",
            "5554/5554 [==============================] - 12s 2ms/step - loss: 0.4458 - accuracy: 0.8402\n",
            "Epoch 51/100\n",
            "5554/5554 [==============================] - 12s 2ms/step - loss: 0.4461 - accuracy: 0.8401\n",
            "Epoch 52/100\n",
            "5554/5554 [==============================] - 12s 2ms/step - loss: 0.4464 - accuracy: 0.8399\n",
            "Epoch 53/100\n",
            "5554/5554 [==============================] - 12s 2ms/step - loss: 0.4458 - accuracy: 0.8400\n",
            "Epoch 54/100\n",
            "5554/5554 [==============================] - 12s 2ms/step - loss: 0.4454 - accuracy: 0.8401\n",
            "Epoch 55/100\n",
            "5554/5554 [==============================] - 12s 2ms/step - loss: 0.4459 - accuracy: 0.8400\n",
            "Epoch 56/100\n",
            "5554/5554 [==============================] - 12s 2ms/step - loss: 0.4460 - accuracy: 0.8401\n",
            "Epoch 57/100\n",
            "5554/5554 [==============================] - 12s 2ms/step - loss: 0.4462 - accuracy: 0.8400\n",
            "Epoch 58/100\n",
            "5554/5554 [==============================] - 12s 2ms/step - loss: 0.4453 - accuracy: 0.8400\n",
            "Epoch 59/100\n",
            "5554/5554 [==============================] - 12s 2ms/step - loss: 0.4457 - accuracy: 0.8400\n",
            "Epoch 60/100\n",
            "5554/5554 [==============================] - 12s 2ms/step - loss: 0.4451 - accuracy: 0.8400\n",
            "Epoch 61/100\n",
            "5554/5554 [==============================] - 12s 2ms/step - loss: 0.4459 - accuracy: 0.8402\n",
            "Epoch 62/100\n",
            "5554/5554 [==============================] - 12s 2ms/step - loss: 0.4454 - accuracy: 0.8400\n",
            "Epoch 63/100\n",
            "5554/5554 [==============================] - 12s 2ms/step - loss: 0.4453 - accuracy: 0.8401\n",
            "Epoch 64/100\n",
            "5554/5554 [==============================] - 12s 2ms/step - loss: 0.4459 - accuracy: 0.8400\n",
            "Epoch 65/100\n",
            "5554/5554 [==============================] - 12s 2ms/step - loss: 0.4456 - accuracy: 0.8399\n",
            "Epoch 66/100\n",
            "5554/5554 [==============================] - 12s 2ms/step - loss: 0.4456 - accuracy: 0.8399\n",
            "Epoch 67/100\n",
            "5554/5554 [==============================] - 12s 2ms/step - loss: 0.4452 - accuracy: 0.8399\n",
            "Epoch 68/100\n",
            "5554/5554 [==============================] - 12s 2ms/step - loss: 0.4460 - accuracy: 0.8401\n",
            "Epoch 69/100\n",
            "5554/5554 [==============================] - 12s 2ms/step - loss: 0.4451 - accuracy: 0.8401\n",
            "Epoch 70/100\n",
            "5554/5554 [==============================] - 12s 2ms/step - loss: 0.4452 - accuracy: 0.8400\n",
            "Epoch 71/100\n",
            "5554/5554 [==============================] - 12s 2ms/step - loss: 0.4450 - accuracy: 0.8399\n",
            "Epoch 72/100\n",
            "5554/5554 [==============================] - 12s 2ms/step - loss: 0.4454 - accuracy: 0.8399\n",
            "Epoch 73/100\n",
            "5554/5554 [==============================] - 12s 2ms/step - loss: 0.4450 - accuracy: 0.8401\n",
            "Epoch 74/100\n",
            "5554/5554 [==============================] - 12s 2ms/step - loss: 0.4446 - accuracy: 0.8402\n",
            "Epoch 75/100\n",
            "5554/5554 [==============================] - 12s 2ms/step - loss: 0.4449 - accuracy: 0.8400\n",
            "Epoch 76/100\n",
            "5554/5554 [==============================] - 12s 2ms/step - loss: 0.4458 - accuracy: 0.8403\n",
            "Epoch 77/100\n",
            "5554/5554 [==============================] - 12s 2ms/step - loss: 0.4447 - accuracy: 0.8400\n",
            "Epoch 78/100\n",
            "5554/5554 [==============================] - 12s 2ms/step - loss: 0.4449 - accuracy: 0.8398\n",
            "Epoch 79/100\n",
            "5554/5554 [==============================] - 12s 2ms/step - loss: 0.4449 - accuracy: 0.8402\n",
            "Epoch 80/100\n",
            "5554/5554 [==============================] - 12s 2ms/step - loss: 0.4449 - accuracy: 0.8399\n",
            "Epoch 81/100\n",
            "5554/5554 [==============================] - 12s 2ms/step - loss: 0.4446 - accuracy: 0.8402\n",
            "Epoch 82/100\n",
            "5554/5554 [==============================] - 12s 2ms/step - loss: 0.4449 - accuracy: 0.8401\n",
            "Epoch 83/100\n",
            "5554/5554 [==============================] - 12s 2ms/step - loss: 0.4444 - accuracy: 0.8400\n",
            "Epoch 84/100\n",
            "5554/5554 [==============================] - 12s 2ms/step - loss: 0.4449 - accuracy: 0.8402\n",
            "Epoch 85/100\n",
            "5554/5554 [==============================] - 12s 2ms/step - loss: 0.4443 - accuracy: 0.8402\n",
            "Epoch 86/100\n",
            "5554/5554 [==============================] - 12s 2ms/step - loss: 0.4448 - accuracy: 0.8402\n",
            "Epoch 87/100\n",
            "5554/5554 [==============================] - 12s 2ms/step - loss: 0.4442 - accuracy: 0.8401\n",
            "Epoch 88/100\n",
            "5554/5554 [==============================] - 12s 2ms/step - loss: 0.4446 - accuracy: 0.8399\n",
            "Epoch 89/100\n",
            "5554/5554 [==============================] - 12s 2ms/step - loss: 0.4444 - accuracy: 0.8401\n",
            "Epoch 90/100\n",
            "5554/5554 [==============================] - 12s 2ms/step - loss: 0.4449 - accuracy: 0.8396\n",
            "Epoch 91/100\n",
            "5554/5554 [==============================] - 12s 2ms/step - loss: 0.4442 - accuracy: 0.8401\n",
            "Epoch 92/100\n",
            "5554/5554 [==============================] - 12s 2ms/step - loss: 0.4445 - accuracy: 0.8400\n",
            "Epoch 93/100\n",
            "5554/5554 [==============================] - 12s 2ms/step - loss: 0.4440 - accuracy: 0.8399\n",
            "Epoch 94/100\n",
            "5554/5554 [==============================] - 12s 2ms/step - loss: 0.4437 - accuracy: 0.8401\n",
            "Epoch 95/100\n",
            "5554/5554 [==============================] - 12s 2ms/step - loss: 0.4442 - accuracy: 0.8403\n",
            "Epoch 96/100\n",
            "5554/5554 [==============================] - 12s 2ms/step - loss: 0.4441 - accuracy: 0.8401\n",
            "Epoch 97/100\n",
            "5554/5554 [==============================] - 12s 2ms/step - loss: 0.4444 - accuracy: 0.8402\n",
            "Epoch 98/100\n",
            "5554/5554 [==============================] - 12s 2ms/step - loss: 0.4439 - accuracy: 0.8402\n",
            "Epoch 99/100\n",
            "5554/5554 [==============================] - 12s 2ms/step - loss: 0.4453 - accuracy: 0.8399\n",
            "Epoch 100/100\n",
            "5554/5554 [==============================] - 12s 2ms/step - loss: 0.4444 - accuracy: 0.8401\n"
          ],
          "name": "stdout"
        },
        {
          "output_type": "execute_result",
          "data": {
            "text/plain": [
              "<tensorflow.python.keras.callbacks.History at 0x7fa89820ee10>"
            ]
          },
          "metadata": {
            "tags": []
          },
          "execution_count": 60
        }
      ]
    },
    {
      "cell_type": "markdown",
      "metadata": {
        "id": "WpNbHtHDO0Qs"
      },
      "source": [
        "### Submissions"
      ]
    },
    {
      "cell_type": "code",
      "metadata": {
        "colab": {
          "base_uri": "https://localhost:8080/",
          "height": 203
        },
        "id": "uQQJrFh2WI-8",
        "outputId": "a01dbc20-afe9-4783-84db-5eb735f16c9b"
      },
      "source": [
        "df_test = pd.read_csv(\"/content/drive/MyDrive/Machine Learning Projects/Crop Damage Prediction/test_pFkWwen.csv\")\n",
        "df_test.head()"
      ],
      "execution_count": 61,
      "outputs": [
        {
          "output_type": "execute_result",
          "data": {
            "text/html": [
              "<div>\n",
              "<style scoped>\n",
              "    .dataframe tbody tr th:only-of-type {\n",
              "        vertical-align: middle;\n",
              "    }\n",
              "\n",
              "    .dataframe tbody tr th {\n",
              "        vertical-align: top;\n",
              "    }\n",
              "\n",
              "    .dataframe thead th {\n",
              "        text-align: right;\n",
              "    }\n",
              "</style>\n",
              "<table border=\"1\" class=\"dataframe\">\n",
              "  <thead>\n",
              "    <tr style=\"text-align: right;\">\n",
              "      <th></th>\n",
              "      <th>ID</th>\n",
              "      <th>Estimated_Insects_Count</th>\n",
              "      <th>Crop_Type</th>\n",
              "      <th>Soil_Type</th>\n",
              "      <th>Pesticide_Use_Category</th>\n",
              "      <th>Number_Doses_Week</th>\n",
              "      <th>Number_Weeks_Used</th>\n",
              "      <th>Number_Weeks_Quit</th>\n",
              "      <th>Season</th>\n",
              "    </tr>\n",
              "  </thead>\n",
              "  <tbody>\n",
              "    <tr>\n",
              "      <th>0</th>\n",
              "      <td>F00000002</td>\n",
              "      <td>188</td>\n",
              "      <td>1</td>\n",
              "      <td>1</td>\n",
              "      <td>1</td>\n",
              "      <td>0</td>\n",
              "      <td>NaN</td>\n",
              "      <td>0</td>\n",
              "      <td>2</td>\n",
              "    </tr>\n",
              "    <tr>\n",
              "      <th>1</th>\n",
              "      <td>F00000007</td>\n",
              "      <td>410</td>\n",
              "      <td>1</td>\n",
              "      <td>1</td>\n",
              "      <td>1</td>\n",
              "      <td>0</td>\n",
              "      <td>0.0</td>\n",
              "      <td>0</td>\n",
              "      <td>2</td>\n",
              "    </tr>\n",
              "    <tr>\n",
              "      <th>2</th>\n",
              "      <td>F00000011</td>\n",
              "      <td>626</td>\n",
              "      <td>1</td>\n",
              "      <td>0</td>\n",
              "      <td>1</td>\n",
              "      <td>0</td>\n",
              "      <td>0.0</td>\n",
              "      <td>0</td>\n",
              "      <td>2</td>\n",
              "    </tr>\n",
              "    <tr>\n",
              "      <th>3</th>\n",
              "      <td>F00000013</td>\n",
              "      <td>731</td>\n",
              "      <td>1</td>\n",
              "      <td>0</td>\n",
              "      <td>1</td>\n",
              "      <td>0</td>\n",
              "      <td>0.0</td>\n",
              "      <td>0</td>\n",
              "      <td>2</td>\n",
              "    </tr>\n",
              "    <tr>\n",
              "      <th>4</th>\n",
              "      <td>F00000014</td>\n",
              "      <td>789</td>\n",
              "      <td>0</td>\n",
              "      <td>0</td>\n",
              "      <td>1</td>\n",
              "      <td>0</td>\n",
              "      <td>0.0</td>\n",
              "      <td>0</td>\n",
              "      <td>1</td>\n",
              "    </tr>\n",
              "  </tbody>\n",
              "</table>\n",
              "</div>"
            ],
            "text/plain": [
              "          ID  Estimated_Insects_Count  ...  Number_Weeks_Quit  Season\n",
              "0  F00000002                      188  ...                  0       2\n",
              "1  F00000007                      410  ...                  0       2\n",
              "2  F00000011                      626  ...                  0       2\n",
              "3  F00000013                      731  ...                  0       2\n",
              "4  F00000014                      789  ...                  0       1\n",
              "\n",
              "[5 rows x 9 columns]"
            ]
          },
          "metadata": {
            "tags": []
          },
          "execution_count": 61
        }
      ]
    },
    {
      "cell_type": "code",
      "metadata": {
        "colab": {
          "base_uri": "https://localhost:8080/"
        },
        "id": "6HGVAhQNWNs9",
        "outputId": "136aefdc-77e2-471e-d939-e33e52b27a79"
      },
      "source": [
        "df_test.isnull().sum()"
      ],
      "execution_count": 62,
      "outputs": [
        {
          "output_type": "execute_result",
          "data": {
            "text/plain": [
              "ID                            0\n",
              "Estimated_Insects_Count       0\n",
              "Crop_Type                     0\n",
              "Soil_Type                     0\n",
              "Pesticide_Use_Category        0\n",
              "Number_Doses_Week             0\n",
              "Number_Weeks_Used          5893\n",
              "Number_Weeks_Quit             0\n",
              "Season                        0\n",
              "dtype: int64"
            ]
          },
          "metadata": {
            "tags": []
          },
          "execution_count": 62
        }
      ]
    },
    {
      "cell_type": "code",
      "metadata": {
        "colab": {
          "base_uri": "https://localhost:8080/",
          "height": 203
        },
        "id": "86fSOvX4WSOr",
        "outputId": "ffa02521-d0d8-4550-e94d-f2786e973016"
      },
      "source": [
        "df_test = df_test.drop(columns = [\"ID\"])\n",
        "df_test.head()"
      ],
      "execution_count": 63,
      "outputs": [
        {
          "output_type": "execute_result",
          "data": {
            "text/html": [
              "<div>\n",
              "<style scoped>\n",
              "    .dataframe tbody tr th:only-of-type {\n",
              "        vertical-align: middle;\n",
              "    }\n",
              "\n",
              "    .dataframe tbody tr th {\n",
              "        vertical-align: top;\n",
              "    }\n",
              "\n",
              "    .dataframe thead th {\n",
              "        text-align: right;\n",
              "    }\n",
              "</style>\n",
              "<table border=\"1\" class=\"dataframe\">\n",
              "  <thead>\n",
              "    <tr style=\"text-align: right;\">\n",
              "      <th></th>\n",
              "      <th>Estimated_Insects_Count</th>\n",
              "      <th>Crop_Type</th>\n",
              "      <th>Soil_Type</th>\n",
              "      <th>Pesticide_Use_Category</th>\n",
              "      <th>Number_Doses_Week</th>\n",
              "      <th>Number_Weeks_Used</th>\n",
              "      <th>Number_Weeks_Quit</th>\n",
              "      <th>Season</th>\n",
              "    </tr>\n",
              "  </thead>\n",
              "  <tbody>\n",
              "    <tr>\n",
              "      <th>0</th>\n",
              "      <td>188</td>\n",
              "      <td>1</td>\n",
              "      <td>1</td>\n",
              "      <td>1</td>\n",
              "      <td>0</td>\n",
              "      <td>NaN</td>\n",
              "      <td>0</td>\n",
              "      <td>2</td>\n",
              "    </tr>\n",
              "    <tr>\n",
              "      <th>1</th>\n",
              "      <td>410</td>\n",
              "      <td>1</td>\n",
              "      <td>1</td>\n",
              "      <td>1</td>\n",
              "      <td>0</td>\n",
              "      <td>0.0</td>\n",
              "      <td>0</td>\n",
              "      <td>2</td>\n",
              "    </tr>\n",
              "    <tr>\n",
              "      <th>2</th>\n",
              "      <td>626</td>\n",
              "      <td>1</td>\n",
              "      <td>0</td>\n",
              "      <td>1</td>\n",
              "      <td>0</td>\n",
              "      <td>0.0</td>\n",
              "      <td>0</td>\n",
              "      <td>2</td>\n",
              "    </tr>\n",
              "    <tr>\n",
              "      <th>3</th>\n",
              "      <td>731</td>\n",
              "      <td>1</td>\n",
              "      <td>0</td>\n",
              "      <td>1</td>\n",
              "      <td>0</td>\n",
              "      <td>0.0</td>\n",
              "      <td>0</td>\n",
              "      <td>2</td>\n",
              "    </tr>\n",
              "    <tr>\n",
              "      <th>4</th>\n",
              "      <td>789</td>\n",
              "      <td>0</td>\n",
              "      <td>0</td>\n",
              "      <td>1</td>\n",
              "      <td>0</td>\n",
              "      <td>0.0</td>\n",
              "      <td>0</td>\n",
              "      <td>1</td>\n",
              "    </tr>\n",
              "  </tbody>\n",
              "</table>\n",
              "</div>"
            ],
            "text/plain": [
              "   Estimated_Insects_Count  Crop_Type  ...  Number_Weeks_Quit  Season\n",
              "0                      188          1  ...                  0       2\n",
              "1                      410          1  ...                  0       2\n",
              "2                      626          1  ...                  0       2\n",
              "3                      731          1  ...                  0       2\n",
              "4                      789          0  ...                  0       1\n",
              "\n",
              "[5 rows x 8 columns]"
            ]
          },
          "metadata": {
            "tags": []
          },
          "execution_count": 63
        }
      ]
    },
    {
      "cell_type": "code",
      "metadata": {
        "id": "Bua6TEVuWU55"
      },
      "source": [
        "df_test = imputer.transform(df_test)"
      ],
      "execution_count": 64,
      "outputs": []
    },
    {
      "cell_type": "code",
      "metadata": {
        "colab": {
          "base_uri": "https://localhost:8080/",
          "height": 203
        },
        "id": "iI6V7yZdWX2_",
        "outputId": "5d3a1bc5-60cb-43d8-e2da-88943a5715f7"
      },
      "source": [
        "df_test = pd.DataFrame(df_test, columns = X.columns)\n",
        "df_test.head()"
      ],
      "execution_count": 65,
      "outputs": [
        {
          "output_type": "execute_result",
          "data": {
            "text/html": [
              "<div>\n",
              "<style scoped>\n",
              "    .dataframe tbody tr th:only-of-type {\n",
              "        vertical-align: middle;\n",
              "    }\n",
              "\n",
              "    .dataframe tbody tr th {\n",
              "        vertical-align: top;\n",
              "    }\n",
              "\n",
              "    .dataframe thead th {\n",
              "        text-align: right;\n",
              "    }\n",
              "</style>\n",
              "<table border=\"1\" class=\"dataframe\">\n",
              "  <thead>\n",
              "    <tr style=\"text-align: right;\">\n",
              "      <th></th>\n",
              "      <th>Estimated_Insects_Count</th>\n",
              "      <th>Crop_Type</th>\n",
              "      <th>Soil_Type</th>\n",
              "      <th>Pesticide_Use_Category</th>\n",
              "      <th>Number_Doses_Week</th>\n",
              "      <th>Number_Weeks_Used</th>\n",
              "      <th>Number_Weeks_Quit</th>\n",
              "      <th>Season</th>\n",
              "    </tr>\n",
              "  </thead>\n",
              "  <tbody>\n",
              "    <tr>\n",
              "      <th>0</th>\n",
              "      <td>188.0</td>\n",
              "      <td>1.0</td>\n",
              "      <td>1.0</td>\n",
              "      <td>1.0</td>\n",
              "      <td>0.0</td>\n",
              "      <td>11.9</td>\n",
              "      <td>0.0</td>\n",
              "      <td>2.0</td>\n",
              "    </tr>\n",
              "    <tr>\n",
              "      <th>1</th>\n",
              "      <td>410.0</td>\n",
              "      <td>1.0</td>\n",
              "      <td>1.0</td>\n",
              "      <td>1.0</td>\n",
              "      <td>0.0</td>\n",
              "      <td>0.0</td>\n",
              "      <td>0.0</td>\n",
              "      <td>2.0</td>\n",
              "    </tr>\n",
              "    <tr>\n",
              "      <th>2</th>\n",
              "      <td>626.0</td>\n",
              "      <td>1.0</td>\n",
              "      <td>0.0</td>\n",
              "      <td>1.0</td>\n",
              "      <td>0.0</td>\n",
              "      <td>0.0</td>\n",
              "      <td>0.0</td>\n",
              "      <td>2.0</td>\n",
              "    </tr>\n",
              "    <tr>\n",
              "      <th>3</th>\n",
              "      <td>731.0</td>\n",
              "      <td>1.0</td>\n",
              "      <td>0.0</td>\n",
              "      <td>1.0</td>\n",
              "      <td>0.0</td>\n",
              "      <td>0.0</td>\n",
              "      <td>0.0</td>\n",
              "      <td>2.0</td>\n",
              "    </tr>\n",
              "    <tr>\n",
              "      <th>4</th>\n",
              "      <td>789.0</td>\n",
              "      <td>0.0</td>\n",
              "      <td>0.0</td>\n",
              "      <td>1.0</td>\n",
              "      <td>0.0</td>\n",
              "      <td>0.0</td>\n",
              "      <td>0.0</td>\n",
              "      <td>1.0</td>\n",
              "    </tr>\n",
              "  </tbody>\n",
              "</table>\n",
              "</div>"
            ],
            "text/plain": [
              "   Estimated_Insects_Count  Crop_Type  ...  Number_Weeks_Quit  Season\n",
              "0                    188.0        1.0  ...                0.0     2.0\n",
              "1                    410.0        1.0  ...                0.0     2.0\n",
              "2                    626.0        1.0  ...                0.0     2.0\n",
              "3                    731.0        1.0  ...                0.0     2.0\n",
              "4                    789.0        0.0  ...                0.0     1.0\n",
              "\n",
              "[5 rows x 8 columns]"
            ]
          },
          "metadata": {
            "tags": []
          },
          "execution_count": 65
        }
      ]
    },
    {
      "cell_type": "code",
      "metadata": {
        "colab": {
          "base_uri": "https://localhost:8080/"
        },
        "id": "xo6htP73WfDX",
        "outputId": "5faa46b7-6158-45cd-888c-efb285f7e1b8"
      },
      "source": [
        "df_test.isnull().sum()"
      ],
      "execution_count": 66,
      "outputs": [
        {
          "output_type": "execute_result",
          "data": {
            "text/plain": [
              "Estimated_Insects_Count    0\n",
              "Crop_Type                  0\n",
              "Soil_Type                  0\n",
              "Pesticide_Use_Category     0\n",
              "Number_Doses_Week          0\n",
              "Number_Weeks_Used          0\n",
              "Number_Weeks_Quit          0\n",
              "Season                     0\n",
              "dtype: int64"
            ]
          },
          "metadata": {
            "tags": []
          },
          "execution_count": 66
        }
      ]
    },
    {
      "cell_type": "code",
      "metadata": {
        "id": "M-RUE7jpWgFs"
      },
      "source": [
        "predictions = model.predict(df_test)"
      ],
      "execution_count": 67,
      "outputs": []
    },
    {
      "cell_type": "code",
      "metadata": {
        "id": "s6mONBNIWmcF"
      },
      "source": [
        "predictions = [np.argmax(i) for i in predictions]"
      ],
      "execution_count": 73,
      "outputs": []
    },
    {
      "cell_type": "code",
      "metadata": {
        "colab": {
          "base_uri": "https://localhost:8080/",
          "height": 203
        },
        "id": "YlysdGVPWxXW",
        "outputId": "2c541ed6-ae22-4595-cd18-961cc0bc4b7a"
      },
      "source": [
        "submission = pd.read_csv(\"/content/drive/MyDrive/Machine Learning Projects/Crop Damage Prediction/sample_submission_O1oDc4H.csv\")\n",
        "submission.head()"
      ],
      "execution_count": 75,
      "outputs": [
        {
          "output_type": "execute_result",
          "data": {
            "text/html": [
              "<div>\n",
              "<style scoped>\n",
              "    .dataframe tbody tr th:only-of-type {\n",
              "        vertical-align: middle;\n",
              "    }\n",
              "\n",
              "    .dataframe tbody tr th {\n",
              "        vertical-align: top;\n",
              "    }\n",
              "\n",
              "    .dataframe thead th {\n",
              "        text-align: right;\n",
              "    }\n",
              "</style>\n",
              "<table border=\"1\" class=\"dataframe\">\n",
              "  <thead>\n",
              "    <tr style=\"text-align: right;\">\n",
              "      <th></th>\n",
              "      <th>ID</th>\n",
              "      <th>Crop_Damage</th>\n",
              "    </tr>\n",
              "  </thead>\n",
              "  <tbody>\n",
              "    <tr>\n",
              "      <th>0</th>\n",
              "      <td>F00000002</td>\n",
              "      <td>1</td>\n",
              "    </tr>\n",
              "    <tr>\n",
              "      <th>1</th>\n",
              "      <td>F00000011</td>\n",
              "      <td>1</td>\n",
              "    </tr>\n",
              "    <tr>\n",
              "      <th>2</th>\n",
              "      <td>F00000014</td>\n",
              "      <td>1</td>\n",
              "    </tr>\n",
              "    <tr>\n",
              "      <th>3</th>\n",
              "      <td>F00000015</td>\n",
              "      <td>1</td>\n",
              "    </tr>\n",
              "    <tr>\n",
              "      <th>4</th>\n",
              "      <td>F00000016</td>\n",
              "      <td>1</td>\n",
              "    </tr>\n",
              "  </tbody>\n",
              "</table>\n",
              "</div>"
            ],
            "text/plain": [
              "          ID  Crop_Damage\n",
              "0  F00000002            1\n",
              "1  F00000011            1\n",
              "2  F00000014            1\n",
              "3  F00000015            1\n",
              "4  F00000016            1"
            ]
          },
          "metadata": {
            "tags": []
          },
          "execution_count": 75
        }
      ]
    },
    {
      "cell_type": "code",
      "metadata": {
        "id": "nTwv73n3XYOQ"
      },
      "source": [
        "submission[\"Crop_Damage\"] = predictions"
      ],
      "execution_count": 76,
      "outputs": []
    },
    {
      "cell_type": "code",
      "metadata": {
        "colab": {
          "base_uri": "https://localhost:8080/",
          "height": 203
        },
        "id": "k1Gc-7I2XfmS",
        "outputId": "e37ff17a-8193-49a5-f1b9-269ac6f14ec8"
      },
      "source": [
        "submission.head()"
      ],
      "execution_count": 77,
      "outputs": [
        {
          "output_type": "execute_result",
          "data": {
            "text/html": [
              "<div>\n",
              "<style scoped>\n",
              "    .dataframe tbody tr th:only-of-type {\n",
              "        vertical-align: middle;\n",
              "    }\n",
              "\n",
              "    .dataframe tbody tr th {\n",
              "        vertical-align: top;\n",
              "    }\n",
              "\n",
              "    .dataframe thead th {\n",
              "        text-align: right;\n",
              "    }\n",
              "</style>\n",
              "<table border=\"1\" class=\"dataframe\">\n",
              "  <thead>\n",
              "    <tr style=\"text-align: right;\">\n",
              "      <th></th>\n",
              "      <th>ID</th>\n",
              "      <th>Crop_Damage</th>\n",
              "    </tr>\n",
              "  </thead>\n",
              "  <tbody>\n",
              "    <tr>\n",
              "      <th>0</th>\n",
              "      <td>F00000002</td>\n",
              "      <td>1</td>\n",
              "    </tr>\n",
              "    <tr>\n",
              "      <th>1</th>\n",
              "      <td>F00000011</td>\n",
              "      <td>1</td>\n",
              "    </tr>\n",
              "    <tr>\n",
              "      <th>2</th>\n",
              "      <td>F00000014</td>\n",
              "      <td>1</td>\n",
              "    </tr>\n",
              "    <tr>\n",
              "      <th>3</th>\n",
              "      <td>F00000015</td>\n",
              "      <td>1</td>\n",
              "    </tr>\n",
              "    <tr>\n",
              "      <th>4</th>\n",
              "      <td>F00000016</td>\n",
              "      <td>1</td>\n",
              "    </tr>\n",
              "  </tbody>\n",
              "</table>\n",
              "</div>"
            ],
            "text/plain": [
              "          ID  Crop_Damage\n",
              "0  F00000002            1\n",
              "1  F00000011            1\n",
              "2  F00000014            1\n",
              "3  F00000015            1\n",
              "4  F00000016            1"
            ]
          },
          "metadata": {
            "tags": []
          },
          "execution_count": 77
        }
      ]
    },
    {
      "cell_type": "code",
      "metadata": {
        "id": "lwXC8LUUXmkw"
      },
      "source": [
        "submission.to_csv(\"ANN_submissions.csv\", index = False)"
      ],
      "execution_count": 80,
      "outputs": []
    },
    {
      "cell_type": "markdown",
      "metadata": {
        "id": "D-H4wY54XvrY"
      },
      "source": [
        "## Competition Score : 0.82594531985232"
      ]
    }
  ]
}